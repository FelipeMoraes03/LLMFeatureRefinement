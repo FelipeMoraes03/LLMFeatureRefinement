{
 "cells": [
  {
   "cell_type": "markdown",
   "metadata": {},
   "source": [
    "# Importing Dependencies"
   ]
  },
  {
   "cell_type": "code",
   "execution_count": 2,
   "metadata": {},
   "outputs": [],
   "source": [
    "import os\n",
    "import json\n",
    "import time\n",
    "\n",
    "from dotenv import load_dotenv\n",
    "from google import genai\n",
    "from google.genai import types\n",
    "\n",
    "from typing import List"
   ]
  },
  {
   "cell_type": "code",
   "execution_count": 6,
   "metadata": {},
   "outputs": [],
   "source": [
    "load_dotenv()\n",
    "gemini_api_key = os.getenv(\"GEMINI_API_KEY\")"
   ]
  },
  {
   "cell_type": "code",
   "execution_count": 8,
   "metadata": {},
   "outputs": [],
   "source": [
    "client = genai.Client(api_key=gemini_api_key)"
   ]
  },
  {
   "cell_type": "markdown",
   "metadata": {},
   "source": [
    "# Root Features"
   ]
  },
  {
   "cell_type": "code",
   "execution_count": 9,
   "metadata": {},
   "outputs": [],
   "source": [
    "# # All root features\n",
    "# with open(\"../data/root_features.json\", \"r\", encoding=\"utf-8\") as file:\n",
    "#     root_features = json.load(file)\n",
    "\n",
    "# Selected root features\n",
    "with open(\"../data/selected_features.json\", \"r\", encoding=\"utf-8\") as file:\n",
    "    root_features = json.load(file)"
   ]
  },
  {
   "cell_type": "markdown",
   "metadata": {},
   "source": [
    "# Functions"
   ]
  },
  {
   "cell_type": "code",
   "execution_count": 10,
   "metadata": {},
   "outputs": [],
   "source": [
    "system_prompt = \"\"\"\"\n",
    "\"You are an expert in mobile app development and requirements engineering. \n",
    "You excel at decomposing high-level features into detailed sub-features.\n",
    "\"\"\""
   ]
  },
  {
   "cell_type": "code",
   "execution_count": 27,
   "metadata": {},
   "outputs": [],
   "source": [
    "def get_level1_prompt(feature: str, feature_description: str, num_features: int = 5, technique: str = \"base\", examples: List[dict] = None) -> str:\n",
    "\n",
    "    base_prompt = f\"\"\"\n",
    "        **Feature**\n",
    "        ```\n",
    "        {feature}: {feature_description}\n",
    "        ```\n",
    "        Given the mobile app feature above, please refine it to a list of sub-features.\n",
    "        Ensure that the number of sub-features is {num_features}.\n",
    "        The output should be a list of JSON formatted objects like this:\n",
    "        [{{\n",
    "        \"sub_feature\": sub_feature,\n",
    "        \"description\": description\n",
    "        }}]\n",
    "        \"\"\"\n",
    "    \n",
    "    if technique == \"base\":\n",
    "        return base_prompt\n",
    "\n",
    "    elif technique == \"chain_of_thought\":\n",
    "        return base_prompt + \"\\nLet's break this down step by step to identify sub-features. Think carefully before listing them. Only return the JSON as answer, as specified.\"\n",
    "\n",
    "    elif technique == \"few_shot\":\n",
    "        examples_str = \"\\n\".join([f\"Example:\\nFeature: {ex['feature']}\\nSub-features: {ex['sub_features']}\" for ex in examples])\n",
    "        return f\"\"\"\n",
    "    {examples_str}\n",
    "\n",
    "    {base_prompt}\n",
    "    \"\"\"\n",
    "\n",
    "    elif technique == \"contrastive_thinking\":\n",
    "        return base_prompt + \"\\nPropose two contrasting interpretations of the feature, then derive sub-features for each interpretation. Only return the JSON as answer, as specified.\"\n",
    "\n",
    "    elif technique == \"prompt_maieutica\":\n",
    "        return base_prompt + \"\\nLet's use a Socratic approach: What is the primary goal of this feature? What are the essential components? How do these components interact? Only return the JSON as answer, as specified.\"\n",
    "\n",
    "    else:\n",
    "        raise ValueError(\"Invalid prompt technique\")\n",
    "\n"
   ]
  },
  {
   "cell_type": "code",
   "execution_count": 28,
   "metadata": {},
   "outputs": [],
   "source": [
    "def get_level2_prompt(feature: str, feature_description: str, super_feature: str, super_feature_description: str,\n",
    "                      siblings_features: List[str], num_features: int = 5, technique: str = \"base\", examples: List[dict] = None) -> str:\n",
    "    base_prompt = f\"\"\"\n",
    "**Super Feature**\n",
    "```\n",
    "super-feature: {super_feature}\n",
    "description: {super_feature_description}\n",
    "```\n",
    "Knowing that the feature \"{super_feature}\" above is refined into a list of the following features:\n",
    "```\n",
    "{siblings_features}\n",
    "```\n",
    "\n",
    "Please refine the following to a list of sub-features.\n",
    "Ensure that the number of sub-features is {num_features}.\n",
    "\n",
    "**Feature**\n",
    "```\n",
    "feature: {feature}\n",
    "description: {feature_description}\n",
    "```\n",
    "\n",
    "The output should be a list of JSON formatted objects like this:\n",
    "[\n",
    "    {{\n",
    "        \"sub_feature\": sub_feature,\n",
    "        \"description\": description\n",
    "    }}\n",
    "]\n",
    "\"\"\"\n",
    "\n",
    "    if technique == \"base\":\n",
    "        return base_prompt\n",
    "\n",
    "    elif technique == \"chain_of_thought\":\n",
    "        return base_prompt + \"\\nLet's break this down step by step to identify sub-features. Think carefully before listing them. Only return the JSON as answer, as specified.\"\n",
    "\n",
    "    elif technique == \"few_shot\":\n",
    "        examples_str = \"\\n\".join([f\"Example:\\nSuper Feature: {ex['super_feature']}\\nSuper Feature Description: {ex['super_feature_description']}\\nFeature: {ex['feature']}\\nFeature Description: {ex['feature_description']}\\nSub-features: {ex['sub_features']}\" for ex in examples])\n",
    "        return f\"\"\"\n",
    "    {examples_str}\n",
    "\n",
    "    {base_prompt}\n",
    "    \"\"\"\n",
    "\n",
    "    elif technique == \"contrastive_thinking\":\n",
    "        return base_prompt + \"\\nPropose two contrasting interpretations of the feature, then derive sub-features for each interpretation. Only return the JSON as answer, as specified.\"\n",
    "\n",
    "    elif technique == \"prompt_maieutica\":\n",
    "        return base_prompt + \"\\nLet's use a Socratic approach: What is the primary goal of this feature? What are the essential components? How do these components interact? Only return the JSON as answer, as specified.\"\n",
    "\n",
    "    else:\n",
    "        raise ValueError(\"Invalid prompt technique\")\n"
   ]
  },
  {
   "cell_type": "code",
   "execution_count": null,
   "metadata": {},
   "outputs": [],
   "source": [
    "def load_examples_from_json(directory: str, filename: str, level: int) -> List[dict]:\n",
    "    file_path = os.path.join(directory, filename)\n",
    "\n",
    "    try:\n",
    "        with open(file_path, \"r\", encoding=\"utf-8\") as file:\n",
    "            examples = json.load(file)\n",
    "\n",
    "        if level == 1:\n",
    "            formatted_examples = [\n",
    "                {\n",
    "                    \"feature\": example[\"feature\"],\n",
    "                    \"sub_features\": json.dumps(example[\"sub_features\"], indent=2)\n",
    "                }\n",
    "                for example in examples\n",
    "            ]\n",
    "        \n",
    "        elif level == 2:\n",
    "            formatted_examples = [\n",
    "                {\n",
    "                    \"super_feature\": example[\"super_feature\"],\n",
    "                    \"super_feature_description\": example[\"super_feature_description\"],\n",
    "                    \"siblings_features\": example[\"siblings_features\"],\n",
    "                    \"feature\": example[\"feature\"],\n",
    "                    \"feature_description\": example[\"feature_description\"],\n",
    "                    \"sub_features\": json.dumps(example[\"sub_features\"], indent=2)\n",
    "                }\n",
    "                for example in examples\n",
    "            ]\n",
    "        \n",
    "        else:\n",
    "            raise ValueError(\"O parâmetro 'level' deve ser 1 ou 2.\")\n",
    "\n",
    "        return formatted_examples\n",
    "\n",
    "    except FileNotFoundError:\n",
    "        print(f\"Erro: Arquivo '{filename}' não encontrado no diretório '{directory}'.\")\n",
    "        return []\n",
    "    except json.JSONDecodeError:\n",
    "        print(f\"Erro: Não foi possível decodificar o JSON no arquivo '{filename}'.\")\n",
    "        return []"
   ]
  },
  {
   "cell_type": "code",
   "execution_count": 30,
   "metadata": {},
   "outputs": [],
   "source": [
    "prompt_techniques = [\"base\", \"chain_of_thought\", \"few_shot\", \"contrastive_thinking\", \"prompt_maieutica\"]"
   ]
  },
  {
   "cell_type": "markdown",
   "metadata": {},
   "source": [
    "# Level 1 Feature Refinements"
   ]
  },
  {
   "cell_type": "code",
   "execution_count": null,
   "metadata": {},
   "outputs": [],
   "source": [
    "techniques_first_level_results = {}\n",
    "for technique in prompt_techniques:\n",
    "        \n",
    "    first_level_results = []\n",
    "\n",
    "    for feature in root_features:\n",
    "        prompt = get_level1_prompt(\n",
    "            feature[\"feature\"],\n",
    "            feature[\"description\"],\n",
    "            technique=technique,\n",
    "            examples=load_examples_from_json(\"../data/examples\", \"few_shot_examples_level_1.json\", 1) if technique == \"few_shot\" else None\n",
    "        )\n",
    "\n",
    "        response = client.models.generate_content(\n",
    "            model=\"gemini-2.0-flash\",\n",
    "            config=types.GenerateContentConfig(system_instruction=system_prompt),\n",
    "            contents=prompt\n",
    "        )\n",
    "        \n",
    "        first_level_results.append({\n",
    "            \"feature\": feature[\"feature\"],\n",
    "            \"description\": feature[\"description\"],\n",
    "            \"sub_features\": json.loads((response.text).replace('```', '').replace('json', ''))\n",
    "        })\n",
    "\n",
    "        # Minimizar problemas de limite de requisicao por minuto\n",
    "        time.sleep(5)\n",
    "\n",
    "    techniques_first_level_results[technique] = first_level_results\n",
    "\n",
    "    # Salvar os resultados em um arquivo JSON\n",
    "    with open(f\"../data/gemini/{technique}/first_level_subfeatures.json\", \"w\") as f:\n",
    "        json.dump(first_level_results, f, indent=4)"
   ]
  },
  {
   "cell_type": "markdown",
   "metadata": {},
   "source": [
    "# Level 2 Feature Refinements"
   ]
  },
  {
   "cell_type": "code",
   "execution_count": null,
   "metadata": {},
   "outputs": [
    {
     "name": "stdout",
     "output_type": "stream",
     "text": [
      "[{'feature': 'Travel Planner', 'sub_features': '[\\n  {\\n    \"sub_feature\": \"Flight Booking\",\\n    \"description\": \"Allow users to search, filter, and book flights from various airlines, specifying dates, destinations, number of passengers, and cabin class. Integrate with flight APIs to display real-time availability and pricing. Include options for saving preferred airlines and travel preferences.\"\\n  },\\n  {\\n    \"sub_feature\": \"Personalized Itinerary Creation\",\\n    \"description\": \"Enable users to create and customize daily itineraries based on their interests, travel style, and duration of the trip. Suggest attractions, restaurants, and activities based on user preferences and location. Allow manual addition of custom activities and time slots. Offer options to optimize itinerary based on travel time and opening hours.\"\\n  },\\n  {\\n    \"sub_feature\": \"Restaurant and Activity Recommendations\",\\n    \"description\": \"Provide curated recommendations for restaurants, attractions, and activities based on user location, preferences, and reviews. Filter options should include cuisine, price range, rating, and activity type. Display detailed information including photos, menus, hours of operation, and user reviews. Integrate with maps for easy navigation.\"\\n  },\\n  {\\n    \"sub_feature\": \"User Reviews and Ratings\",\\n    \"description\": \"Allow users to submit reviews and ratings for restaurants, attractions, and activities. Implement a rating system (e.g., 5-star) and a text review field. Moderate reviews to ensure quality and prevent spam. Display average ratings and review summaries prominently. Provide options for users to flag inappropriate content.\"\\n  },\\n  {\\n    \"sub_feature\": \"Booking Management\",\\n    \"description\": \"Allow users to manage all their bookings (flights, hotels, activities) in one centralized location. Provide options to view booking details, modify bookings (subject to provider policies), cancel bookings (subject to provider policies), and receive booking confirmations and reminders. Integrate with calendar applications for easy scheduling.\"\\n  }\\n]'}, {'feature': 'Criminal Alert', 'sub_features': '[\\n  {\\n    \"sub_feature\": \"Incident Reporting\",\\n    \"description\": \"Allows users to submit reports of suspicious activity, crimes in progress, or completed crimes, including the ability to add descriptions, photos, videos, and location data.\"\\n  },\\n  {\\n    \"sub_feature\": \"Neighborhood Watch Groups\",\\n    \"description\": \"Enables users to create or join virtual neighborhood watch groups within defined geographical areas, facilitating communication and collaboration on local safety concerns.\"\\n  },\\n  {\\n    \"sub_feature\": \"Real-time Incident Alerts\",\\n    \"description\": \"Provides users with immediate notifications about nearby criminal activities, emergencies, or police activity based on their location and pre-defined alert preferences.\"\\n  },\\n  {\\n    \"sub_feature\": \"Police Activity Map\",\\n    \"description\": \"Displays a map showing reported incidents, police activity, and other relevant safety information in the user\\'s vicinity, aggregated from user reports and official sources, if available.\"\\n  },\\n  {\\n    \"sub_feature\": \"Community Forum\",\\n    \"description\": \"Offers a discussion forum where users can share information, ask questions, and engage in conversations related to neighborhood safety and security, moderated to ensure constructive dialogue.\"\\n  }\\n]'}, {'feature': 'Driver Guardian', 'sub_features': '[\\n  {\\n    \"sub_feature\": \"Wearable Device Integration & Data Acquisition\",\\n    \"description\": \"Establishes a secure and reliable connection with supported wearable devices (e.g., smartwatches, fitness trackers).  Collects real-time physiological data including heart rate, heart rate variability (HRV), skin conductance, and body temperature.  Handles data synchronization and potential data loss scenarios gracefully.\"\\n  },\\n  {\\n    \"sub_feature\": \"Driver Health Monitoring & Anomaly Detection\",\\n    \"description\": \"Analyzes the incoming physiological data streams to detect signs of driver fatigue, stress, and other health anomalies. Employs machine learning algorithms and pre-defined thresholds to identify deviations from the driver\\'s baseline health patterns.  Implements configurable sensitivity levels for anomaly detection.\"\\n  },\\n  {\\n    \"sub_feature\": \"Alerting & Recommendation System\",\\n    \"description\": \"Provides timely alerts and recommendations to the driver based on the detected health anomalies.  Alerts can be visual (on-screen notifications), auditory (voice prompts, alarms), and haptic (vibrations).  Recommendations might include suggesting a break, adjusting the driving environment (e.g., temperature, lighting), or re-routing to a rest stop.\"\\n  },\\n  {\\n    \"sub_feature\": \"Automated Vehicle Control (Emergency Override)\",\\n    \"description\": \"In critical situations where the driver\\'s health poses an immediate danger (e.g., potential heart attack, loss of consciousness), the system can initiate a pre-defined emergency protocol.  This may involve gradually slowing down the vehicle, safely pulling over to the side of the road, activating hazard lights, and automatically contacting emergency services.  This feature requires careful consideration of ethical and safety implications and may be limited based on vehicle capabilities and regulatory constraints.\"\\n  },\\n  {\\n    \"sub_feature\": \"Data Logging & Reporting\",\\n    \"description\": \"Records all collected physiological data, detected anomalies, alerts, and recommendations in a secure and privacy-compliant manner.  Provides the driver with access to historical data and reports to track their health trends over time.  Allows for data export for sharing with healthcare professionals (with explicit user consent). Implements robust data encryption and access control mechanisms.\"\\n  }\\n]'}, {'feature': 'Laugh evaluation', 'sub_features': '[\\n  {\\n    \"sub_feature\": \"Laugh Detection & Recording\",\\n    \"description\": \"Continuously monitors audio input for patterns and acoustic features indicative of laughter. Records the start and end times of each detected laugh event with a timestamp.\"\\n  },\\n  {\\n    \"sub_feature\": \"Laugh Quantity Tracking\",\\n    \"description\": \"Aggregates and quantifies laugh instances over specified time intervals (e.g., per minute, per conversation, per day). Provides visualizations and summaries of laugh frequency.\"\\n  },\\n  {\\n    \"sub_feature\": \"Authenticity Assessment\",\\n    \"description\": \"Analyzes the acoustic properties of each laugh (e.g., pitch, intensity, duration, presence of vocal fry) to differentiate between genuine and polite/forced laughter, utilizing machine learning models trained on labeled laugh data.\"\\n  },\\n  {\\n    \"sub_feature\": \"Emotional Context Analysis\",\\n    \"description\": \"Integrates contextual data (e.g., sentiment of surrounding conversation, user\\'s facial expressions, associated text messages) to infer the emotional state associated with each laugh. This includes identifying if the laugh is related to joy, amusement, nervousness, or sarcasm.\"\\n  },\\n  {\\n    \"sub_feature\": \"Social Impact Evaluation\",\\n    \"description\": \"Measures the impact of the user\\'s laughs on social interactions. This includes gauging audience reactions (e.g., measuring if other users also laugh), assessing changes in conversational tone after a laugh, and providing feedback to the user on how their laughter might be perceived.\"\\n  }\\n]'}]\n",
      "{'feature': 'Travel Planner', 'sub_features': '[\\n  {\\n    \"sub_feature\": \"Flight Booking\",\\n    \"description\": \"Allow users to search, filter, and book flights from various airlines, specifying dates, destinations, number of passengers, and cabin class. Integrate with flight APIs to display real-time availability and pricing. Include options for saving preferred airlines and travel preferences.\"\\n  },\\n  {\\n    \"sub_feature\": \"Personalized Itinerary Creation\",\\n    \"description\": \"Enable users to create and customize daily itineraries based on their interests, travel style, and duration of the trip. Suggest attractions, restaurants, and activities based on user preferences and location. Allow manual addition of custom activities and time slots. Offer options to optimize itinerary based on travel time and opening hours.\"\\n  },\\n  {\\n    \"sub_feature\": \"Restaurant and Activity Recommendations\",\\n    \"description\": \"Provide curated recommendations for restaurants, attractions, and activities based on user location, preferences, and reviews. Filter options should include cuisine, price range, rating, and activity type. Display detailed information including photos, menus, hours of operation, and user reviews. Integrate with maps for easy navigation.\"\\n  },\\n  {\\n    \"sub_feature\": \"User Reviews and Ratings\",\\n    \"description\": \"Allow users to submit reviews and ratings for restaurants, attractions, and activities. Implement a rating system (e.g., 5-star) and a text review field. Moderate reviews to ensure quality and prevent spam. Display average ratings and review summaries prominently. Provide options for users to flag inappropriate content.\"\\n  },\\n  {\\n    \"sub_feature\": \"Booking Management\",\\n    \"description\": \"Allow users to manage all their bookings (flights, hotels, activities) in one centralized location. Provide options to view booking details, modify bookings (subject to provider policies), cancel bookings (subject to provider policies), and receive booking confirmations and reminders. Integrate with calendar applications for easy scheduling.\"\\n  }\\n]'}\n",
      "[\n"
     ]
    },
    {
     "ename": "TypeError",
     "evalue": "string indices must be integers, not 'str'",
     "output_type": "error",
     "traceback": [
      "\u001b[1;31m---------------------------------------------------------------------------\u001b[0m",
      "\u001b[1;31mTypeError\u001b[0m                                 Traceback (most recent call last)",
      "Cell \u001b[1;32mIn[26], line 12\u001b[0m\n\u001b[0;32m      9\u001b[0m \u001b[38;5;28;01mfor\u001b[39;00m feature \u001b[38;5;129;01min\u001b[39;00m super_feature[\u001b[38;5;124m\"\u001b[39m\u001b[38;5;124msub_features\u001b[39m\u001b[38;5;124m\"\u001b[39m]:\n\u001b[0;32m     10\u001b[0m     \u001b[38;5;28mprint\u001b[39m(feature)\n\u001b[0;32m     11\u001b[0m     prompt \u001b[38;5;241m=\u001b[39m get_level2_prompt(\n\u001b[1;32m---> 12\u001b[0m         \u001b[43mfeature\u001b[49m\u001b[43m[\u001b[49m\u001b[38;5;124;43m\"\u001b[39;49m\u001b[38;5;124;43msub_feature\u001b[39;49m\u001b[38;5;124;43m\"\u001b[39;49m\u001b[43m]\u001b[49m, \n\u001b[0;32m     13\u001b[0m         feature[\u001b[38;5;124m\"\u001b[39m\u001b[38;5;124mdescription\u001b[39m\u001b[38;5;124m\"\u001b[39m],\n\u001b[0;32m     14\u001b[0m         super_feature[\u001b[38;5;124m\"\u001b[39m\u001b[38;5;124mfeature\u001b[39m\u001b[38;5;124m\"\u001b[39m],\n\u001b[0;32m     15\u001b[0m         super_feature[\u001b[38;5;124m\"\u001b[39m\u001b[38;5;124mdescription\u001b[39m\u001b[38;5;124m\"\u001b[39m],\n\u001b[0;32m     16\u001b[0m         siblings_features\u001b[38;5;241m=\u001b[39m[f[\u001b[38;5;124m\"\u001b[39m\u001b[38;5;124msub_feature\u001b[39m\u001b[38;5;124m\"\u001b[39m] \u001b[38;5;28;01mfor\u001b[39;00m f \u001b[38;5;129;01min\u001b[39;00m super_feature[\u001b[38;5;124m\"\u001b[39m\u001b[38;5;124msub_features\u001b[39m\u001b[38;5;124m\"\u001b[39m]],\n\u001b[0;32m     17\u001b[0m         technique\u001b[38;5;241m=\u001b[39mtechnique,\n\u001b[0;32m     18\u001b[0m         examples\u001b[38;5;241m=\u001b[39mload_examples_from_json(\u001b[38;5;124m\"\u001b[39m\u001b[38;5;124m../data/examples\u001b[39m\u001b[38;5;124m\"\u001b[39m, \u001b[38;5;124m\"\u001b[39m\u001b[38;5;124mfew_shot_examples_level_2.json\u001b[39m\u001b[38;5;124m\"\u001b[39m, \u001b[38;5;241m2\u001b[39m) \u001b[38;5;28;01mif\u001b[39;00m technique \u001b[38;5;241m==\u001b[39m \u001b[38;5;124m\"\u001b[39m\u001b[38;5;124mfew_shot\u001b[39m\u001b[38;5;124m\"\u001b[39m \u001b[38;5;28;01melse\u001b[39;00m \u001b[38;5;28;01mNone\u001b[39;00m\n\u001b[0;32m     19\u001b[0m     )\n\u001b[0;32m     21\u001b[0m     response \u001b[38;5;241m=\u001b[39m client\u001b[38;5;241m.\u001b[39mmodels\u001b[38;5;241m.\u001b[39mgenerate_content(\n\u001b[0;32m     22\u001b[0m         model\u001b[38;5;241m=\u001b[39m\u001b[38;5;124m\"\u001b[39m\u001b[38;5;124mgemini-2.0-flash\u001b[39m\u001b[38;5;124m\"\u001b[39m,\n\u001b[0;32m     23\u001b[0m         config\u001b[38;5;241m=\u001b[39mtypes\u001b[38;5;241m.\u001b[39mGenerateContentConfig(system_instruction\u001b[38;5;241m=\u001b[39msystem_prompt),\n\u001b[0;32m     24\u001b[0m         contents\u001b[38;5;241m=\u001b[39mprompt\n\u001b[0;32m     25\u001b[0m     )\n\u001b[0;32m     27\u001b[0m     second_level_results\u001b[38;5;241m.\u001b[39mappend({\n\u001b[0;32m     28\u001b[0m         \u001b[38;5;124m\"\u001b[39m\u001b[38;5;124msuper_feature\u001b[39m\u001b[38;5;124m\"\u001b[39m: super_feature[\u001b[38;5;124m\"\u001b[39m\u001b[38;5;124mfeature\u001b[39m\u001b[38;5;124m\"\u001b[39m],\n\u001b[0;32m     29\u001b[0m         \u001b[38;5;124m\"\u001b[39m\u001b[38;5;124msuper_feature_description\u001b[39m\u001b[38;5;124m\"\u001b[39m: super_feature[\u001b[38;5;124m\"\u001b[39m\u001b[38;5;124mdescription\u001b[39m\u001b[38;5;124m\"\u001b[39m],\n\u001b[1;32m   (...)\u001b[0m\n\u001b[0;32m     33\u001b[0m         \u001b[38;5;124m\"\u001b[39m\u001b[38;5;124msub_features\u001b[39m\u001b[38;5;124m\"\u001b[39m: json\u001b[38;5;241m.\u001b[39mloads((response\u001b[38;5;241m.\u001b[39mtext)\u001b[38;5;241m.\u001b[39mreplace(\u001b[38;5;124m'\u001b[39m\u001b[38;5;124m```\u001b[39m\u001b[38;5;124m'\u001b[39m, \u001b[38;5;124m'\u001b[39m\u001b[38;5;124m'\u001b[39m)\u001b[38;5;241m.\u001b[39mreplace(\u001b[38;5;124m'\u001b[39m\u001b[38;5;124mjson\u001b[39m\u001b[38;5;124m'\u001b[39m, \u001b[38;5;124m'\u001b[39m\u001b[38;5;124m'\u001b[39m))\n\u001b[0;32m     34\u001b[0m     })\n",
      "\u001b[1;31mTypeError\u001b[0m: string indices must be integers, not 'str'"
     ]
    }
   ],
   "source": [
    "for technique in prompt_techniques:\n",
    "    second_level_results = []\n",
    "    first_level_results = techniques_first_level_results[technique]\n",
    "\n",
    "    for super_feature in first_level_results:\n",
    "        print(super_feature)\n",
    "        for feature in super_feature[\"sub_features\"]:\n",
    "            print(feature)\n",
    "            prompt = get_level2_prompt(\n",
    "                feature[\"sub_feature\"], \n",
    "                feature[\"description\"],\n",
    "                super_feature[\"feature\"],\n",
    "                super_feature[\"description\"],\n",
    "                siblings_features=[f[\"sub_feature\"] for f in super_feature[\"sub_features\"]],\n",
    "                technique=technique,\n",
    "                examples=load_examples_from_json(\"../data/examples\", \"few_shot_examples_level_2.json\", 2) if technique == \"few_shot\" else None\n",
    "            )\n",
    "\n",
    "            response = client.models.generate_content(\n",
    "                model=\"gemini-2.0-flash\",\n",
    "                config=types.GenerateContentConfig(system_instruction=system_prompt),\n",
    "                contents=prompt\n",
    "            )\n",
    "\n",
    "            second_level_results.append({\n",
    "                \"super_feature\": super_feature[\"feature\"],\n",
    "                \"super_feature_description\": super_feature[\"description\"],\n",
    "                \"feature\": feature[\"sub_feature\"],\n",
    "                \"description\": feature[\"description\"],\n",
    "                \"siblings\": [f[\"sub_feature\"] for f in super_feature[\"sub_features\"]],\n",
    "                \"sub_features\": json.loads((response.text).replace('```', '').replace('json', ''))\n",
    "            })\n",
    "\n",
    "            # Minimizar problemas de limite de requisicao por minuto\n",
    "            time.sleep(5)\n",
    "\n",
    "    # Salvar os resultados em um arquivo JSON\n",
    "    with open(f\"../data/gemini/{technique}/second_level_subfeatures.json\", \"w\") as f:\n",
    "        json.dump(second_level_results, f, indent=4)"
   ]
  },
  {
   "cell_type": "code",
   "execution_count": null,
   "metadata": {},
   "outputs": [],
   "source": []
  }
 ],
 "metadata": {
  "kernelspec": {
   "display_name": "Python 3",
   "language": "python",
   "name": "python3"
  },
  "language_info": {
   "codemirror_mode": {
    "name": "ipython",
    "version": 3
   },
   "file_extension": ".py",
   "mimetype": "text/x-python",
   "name": "python",
   "nbconvert_exporter": "python",
   "pygments_lexer": "ipython3",
   "version": "3.11.2"
  }
 },
 "nbformat": 4,
 "nbformat_minor": 2
}
