{
 "cells": [
  {
   "cell_type": "code",
   "execution_count": 19,
   "metadata": {},
   "outputs": [],
   "source": [
    "import os\n",
    "import json\n",
    "import pandas as pd\n",
    "from IPython.display import display, HTML"
   ]
  },
  {
   "cell_type": "code",
   "execution_count": 2,
   "metadata": {},
   "outputs": [],
   "source": [
    "# Input Parameters\n",
    "prompt_techniques = [\"base\", \"few_shot\", \"chain_of_thought\", \"prompt_maieutica\"]\n"
   ]
  },
  {
   "cell_type": "code",
   "execution_count": 3,
   "metadata": {},
   "outputs": [],
   "source": [
    "# Initialize DataFrame\n",
    "columns = [\"prompt_technique\", \"level\", \"avg_relevance\", \"avg_clarity\", \"avg_feasibility\", \"sub_feature_percentage\"]\n",
    "results_df = pd.DataFrame(columns=columns)"
   ]
  },
  {
   "cell_type": "code",
   "execution_count": null,
   "metadata": {},
   "outputs": [],
   "source": [
    "# Process each prompt technique\n",
    "for technique in prompt_techniques:\n",
    "    for level in [\"first_level\", \"second_level\"]:\n",
    "        eval_path = f\"../data/gemini/{technique}/{level}_eval.json\"\n",
    "        if os.path.exists(eval_path):\n",
    "            with open(eval_path, \"r\", encoding=\"utf-8\") as f:\n",
    "                eval_data = json.load(f)\n",
    "\n",
    "            relevance_scores = []\n",
    "            clarity_scores = []\n",
    "            feasibility_scores = []\n",
    "            sub_feature_count = 0\n",
    "\n",
    "            for feature in eval_data:\n",
    "                eval_result = feature[\"feature_eval\"]\n",
    "                relevance_scores.append(eval_result[\"relevance\"])\n",
    "                clarity_scores.append(eval_result[\"clarity\"])\n",
    "                feasibility_scores.append(eval_result[\"feasibility\"])\n",
    "                if eval_result[\"relationship\"] == \"Sub-feature\":\n",
    "                    sub_feature_count += 1\n",
    "\n",
    "            total_features = len(eval_data)\n",
    "            avg_relevance = sum(relevance_scores) / total_features\n",
    "            avg_clarity = sum(clarity_scores) / total_features\n",
    "            avg_feasibility = sum(feasibility_scores) / total_features\n",
    "            sub_feature_percentage = (sub_feature_count / total_features) * 100\n",
    "\n",
    "            results_df = pd.concat([results_df, pd.DataFrame.from_records([{\n",
    "                \"prompt_technique\": technique,\n",
    "                \"level\": level,\n",
    "                \"avg_relevance\": avg_relevance,\n",
    "                \"avg_clarity\": avg_clarity,\n",
    "                \"avg_feasibility\": avg_feasibility,\n",
    "                \"sub_feature_percentage\": sub_feature_percentage\n",
    "            }])], ignore_index=True)\n",
    "\n",
    "            # Create a separate table for each technique + level\n",
    "            table_df = pd.DataFrame.from_records([{\n",
    "                \"avg_relevance\": avg_relevance,\n",
    "                \"avg_clarity\": avg_clarity,\n",
    "                \"avg_feasibility\": avg_feasibility,\n",
    "                \"sub_feature_percentage\": sub_feature_percentage\n",
    "            }])\n",
    "            table_path = f\"../data/gemini/result_tables/{technique}_{level}_summary.csv\"\n",
    "            table_df.to_csv(table_path, index=False)"
   ]
  },
  {
   "cell_type": "code",
   "execution_count": 50,
   "metadata": {},
   "outputs": [],
   "source": [
    "tecnica = \"prompt_maieutica\"\n",
    "nivel = \"second_level\""
   ]
  },
  {
   "cell_type": "code",
   "execution_count": 51,
   "metadata": {},
   "outputs": [
    {
     "data": {
      "text/html": [
       "<style type=\"text/css\">\n",
       "#T_d129b thead th {\n",
       "  background-color: #007bff;\n",
       "  color: white;\n",
       "  font-weight: bold;\n",
       "  text-align: center;\n",
       "}\n",
       "#T_d129b tbody td {\n",
       "  text-align: center;\n",
       "  padding: 8px;\n",
       "  color: black;\n",
       "}\n",
       "#T_d129b tbody tr:nth-child(odd) {\n",
       "  background-color: #f8f9fa;\n",
       "}\n",
       "#T_d129b tbody tr:nth-child(even) {\n",
       "  background-color: white;\n",
       "}\n",
       "#T_d129b table {\n",
       "  border-collapse: collapse;\n",
       "  width: 100%;\n",
       "  margin: 10px 0;\n",
       "}\n",
       "</style>\n",
       "<table id=\"T_d129b\">\n",
       "  <thead>\n",
       "    <tr>\n",
       "      <th id=\"T_d129b_level0_col0\" class=\"col_heading level0 col0\" >avg_relevance</th>\n",
       "      <th id=\"T_d129b_level0_col1\" class=\"col_heading level0 col1\" >avg_clarity</th>\n",
       "      <th id=\"T_d129b_level0_col2\" class=\"col_heading level0 col2\" >avg_feasibility</th>\n",
       "      <th id=\"T_d129b_level0_col3\" class=\"col_heading level0 col3\" >sub_feature_percentage</th>\n",
       "    </tr>\n",
       "  </thead>\n",
       "  <tbody>\n",
       "    <tr>\n",
       "      <td id=\"T_d129b_row0_col0\" class=\"data row0 col0\" >5.00</td>\n",
       "      <td id=\"T_d129b_row0_col1\" class=\"data row0 col1\" >4.99</td>\n",
       "      <td id=\"T_d129b_row0_col2\" class=\"data row0 col2\" >4.92</td>\n",
       "      <td id=\"T_d129b_row0_col3\" class=\"data row0 col3\" >98.00</td>\n",
       "    </tr>\n",
       "  </tbody>\n",
       "</table>\n"
      ],
      "text/plain": [
       "<IPython.core.display.HTML object>"
      ]
     },
     "metadata": {},
     "output_type": "display_data"
    }
   ],
   "source": [
    "df = pd.read_csv(f\"../data/gemini/result_tables/{tecnica}_{nivel}_summary.csv\")\n",
    "styled_html = (\n",
    "    df.style\n",
    "    .format(\"{:.2f}\")\n",
    "    .hide(axis=\"index\")  # Esconde o índice\n",
    "    .set_table_styles([\n",
    "        {'selector': 'thead th',\n",
    "         'props': [('background-color', '#007bff'), ('color', 'white'), ('font-weight', 'bold'), ('text-align', 'center')]},\n",
    "        {'selector': 'tbody td',\n",
    "         'props': [('text-align', 'center'), ('padding', '8px'), ('color', 'black')]},\n",
    "        {'selector': 'tbody tr:nth-child(odd)',\n",
    "         'props': [('background-color', '#f8f9fa')]},\n",
    "        {'selector': 'tbody tr:nth-child(even)',\n",
    "         'props': [('background-color', 'white')]},\n",
    "        {'selector': 'table',\n",
    "         'props': [('border-collapse', 'collapse'), ('width', '100%'), ('margin', '10px 0')]},\n",
    "    ])\n",
    "    .to_html()\n",
    ")\n",
    "\n",
    "# Exibindo o HTML formatado\n",
    "display(HTML(styled_html))"
   ]
  },
  {
   "cell_type": "code",
   "execution_count": null,
   "metadata": {},
   "outputs": [],
   "source": []
  }
 ],
 "metadata": {
  "kernelspec": {
   "display_name": "Python 3",
   "language": "python",
   "name": "python3"
  },
  "language_info": {
   "codemirror_mode": {
    "name": "ipython",
    "version": 3
   },
   "file_extension": ".py",
   "mimetype": "text/x-python",
   "name": "python",
   "nbconvert_exporter": "python",
   "pygments_lexer": "ipython3",
   "version": "3.11.2"
  }
 },
 "nbformat": 4,
 "nbformat_minor": 2
}
